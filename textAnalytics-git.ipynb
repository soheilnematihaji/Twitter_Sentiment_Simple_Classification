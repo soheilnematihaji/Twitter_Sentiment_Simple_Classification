{
 "cells": [
  {
   "cell_type": "code",
   "execution_count": 1,
   "metadata": {
    "colab": {
     "base_uri": "https://localhost:8080/"
    },
    "executionInfo": {
     "elapsed": 17520,
     "status": "ok",
     "timestamp": 1616016201557,
     "user": {
      "displayName": "Maryam Barouti",
      "photoUrl": "https://lh3.googleusercontent.com/a-/AOh14Git3se7_FRooeDr3V9IQ1hSGTTj_mVFOYCXuk4-=s64",
      "userId": "15748171986397641189"
     },
     "user_tz": 360
    },
    "id": "zmQfHfZzBTDe",
    "outputId": "a51dea3e-b5a4-4e3f-9446-f38af77c64fd"
   },
   "outputs": [],
   "source": [
    "import pandas as pd\n"
   ]
  },
  {
   "cell_type": "code",
   "execution_count": 2,
   "metadata": {
    "colab": {
     "base_uri": "https://localhost:8080/",
     "height": 419
    },
    "executionInfo": {
     "elapsed": 674,
     "status": "ok",
     "timestamp": 1616016203859,
     "user": {
      "displayName": "Maryam Barouti",
      "photoUrl": "https://lh3.googleusercontent.com/a-/AOh14Git3se7_FRooeDr3V9IQ1hSGTTj_mVFOYCXuk4-=s64",
      "userId": "15748171986397641189"
     },
     "user_tz": 360
    },
    "id": "yi4j9N0PLaOD",
    "outputId": "759666e7-0226-4fd9-83d2-074998363db1"
   },
   "outputs": [
    {
     "data": {
      "text/html": [
       "<div>\n",
       "<style scoped>\n",
       "    .dataframe tbody tr th:only-of-type {\n",
       "        vertical-align: middle;\n",
       "    }\n",
       "\n",
       "    .dataframe tbody tr th {\n",
       "        vertical-align: top;\n",
       "    }\n",
       "\n",
       "    .dataframe thead th {\n",
       "        text-align: right;\n",
       "    }\n",
       "</style>\n",
       "<table border=\"1\" class=\"dataframe\">\n",
       "  <thead>\n",
       "    <tr style=\"text-align: right;\">\n",
       "      <th></th>\n",
       "      <th>id</th>\n",
       "      <th>keyword</th>\n",
       "      <th>location</th>\n",
       "      <th>text</th>\n",
       "      <th>target</th>\n",
       "    </tr>\n",
       "  </thead>\n",
       "  <tbody>\n",
       "    <tr>\n",
       "      <th>0</th>\n",
       "      <td>1</td>\n",
       "      <td>NaN</td>\n",
       "      <td>NaN</td>\n",
       "      <td>Our Deeds are the Reason of this #earthquake M...</td>\n",
       "      <td>1</td>\n",
       "    </tr>\n",
       "    <tr>\n",
       "      <th>1</th>\n",
       "      <td>4</td>\n",
       "      <td>NaN</td>\n",
       "      <td>NaN</td>\n",
       "      <td>Forest fire near La Ronge Sask. Canada</td>\n",
       "      <td>1</td>\n",
       "    </tr>\n",
       "    <tr>\n",
       "      <th>2</th>\n",
       "      <td>5</td>\n",
       "      <td>NaN</td>\n",
       "      <td>NaN</td>\n",
       "      <td>All residents asked to 'shelter in place' are ...</td>\n",
       "      <td>1</td>\n",
       "    </tr>\n",
       "    <tr>\n",
       "      <th>3</th>\n",
       "      <td>6</td>\n",
       "      <td>NaN</td>\n",
       "      <td>NaN</td>\n",
       "      <td>13,000 people receive #wildfires evacuation or...</td>\n",
       "      <td>1</td>\n",
       "    </tr>\n",
       "    <tr>\n",
       "      <th>4</th>\n",
       "      <td>7</td>\n",
       "      <td>NaN</td>\n",
       "      <td>NaN</td>\n",
       "      <td>Just got sent this photo from Ruby #Alaska as ...</td>\n",
       "      <td>1</td>\n",
       "    </tr>\n",
       "    <tr>\n",
       "      <th>...</th>\n",
       "      <td>...</td>\n",
       "      <td>...</td>\n",
       "      <td>...</td>\n",
       "      <td>...</td>\n",
       "      <td>...</td>\n",
       "    </tr>\n",
       "    <tr>\n",
       "      <th>7608</th>\n",
       "      <td>10869</td>\n",
       "      <td>NaN</td>\n",
       "      <td>NaN</td>\n",
       "      <td>Two giant cranes holding a bridge collapse int...</td>\n",
       "      <td>1</td>\n",
       "    </tr>\n",
       "    <tr>\n",
       "      <th>7609</th>\n",
       "      <td>10870</td>\n",
       "      <td>NaN</td>\n",
       "      <td>NaN</td>\n",
       "      <td>@aria_ahrary @TheTawniest The out of control w...</td>\n",
       "      <td>1</td>\n",
       "    </tr>\n",
       "    <tr>\n",
       "      <th>7610</th>\n",
       "      <td>10871</td>\n",
       "      <td>NaN</td>\n",
       "      <td>NaN</td>\n",
       "      <td>M1.94 [01:04 UTC]?5km S of Volcano Hawaii. htt...</td>\n",
       "      <td>1</td>\n",
       "    </tr>\n",
       "    <tr>\n",
       "      <th>7611</th>\n",
       "      <td>10872</td>\n",
       "      <td>NaN</td>\n",
       "      <td>NaN</td>\n",
       "      <td>Police investigating after an e-bike collided ...</td>\n",
       "      <td>1</td>\n",
       "    </tr>\n",
       "    <tr>\n",
       "      <th>7612</th>\n",
       "      <td>10873</td>\n",
       "      <td>NaN</td>\n",
       "      <td>NaN</td>\n",
       "      <td>The Latest: More Homes Razed by Northern Calif...</td>\n",
       "      <td>1</td>\n",
       "    </tr>\n",
       "  </tbody>\n",
       "</table>\n",
       "<p>7613 rows × 5 columns</p>\n",
       "</div>"
      ],
      "text/plain": [
       "         id keyword  ...                                               text target\n",
       "0         1     NaN  ...  Our Deeds are the Reason of this #earthquake M...      1\n",
       "1         4     NaN  ...             Forest fire near La Ronge Sask. Canada      1\n",
       "2         5     NaN  ...  All residents asked to 'shelter in place' are ...      1\n",
       "3         6     NaN  ...  13,000 people receive #wildfires evacuation or...      1\n",
       "4         7     NaN  ...  Just got sent this photo from Ruby #Alaska as ...      1\n",
       "...     ...     ...  ...                                                ...    ...\n",
       "7608  10869     NaN  ...  Two giant cranes holding a bridge collapse int...      1\n",
       "7609  10870     NaN  ...  @aria_ahrary @TheTawniest The out of control w...      1\n",
       "7610  10871     NaN  ...  M1.94 [01:04 UTC]?5km S of Volcano Hawaii. htt...      1\n",
       "7611  10872     NaN  ...  Police investigating after an e-bike collided ...      1\n",
       "7612  10873     NaN  ...  The Latest: More Homes Razed by Northern Calif...      1\n",
       "\n",
       "[7613 rows x 5 columns]"
      ]
     },
     "execution_count": 2,
     "metadata": {
      "tags": []
     },
     "output_type": "execute_result"
    }
   ],
   "source": [
    "df=pd.read_csv('textAnalytics-twitter-sentiment-train.csv')\n",
    "df"
   ]
  },
  {
   "cell_type": "code",
   "execution_count": 3,
   "metadata": {
    "colab": {
     "base_uri": "https://localhost:8080/",
     "height": 297
    },
    "executionInfo": {
     "elapsed": 350,
     "status": "ok",
     "timestamp": 1616016207075,
     "user": {
      "displayName": "Maryam Barouti",
      "photoUrl": "https://lh3.googleusercontent.com/a-/AOh14Git3se7_FRooeDr3V9IQ1hSGTTj_mVFOYCXuk4-=s64",
      "userId": "15748171986397641189"
     },
     "user_tz": 360
    },
    "id": "_EKRk2ErT0IJ",
    "outputId": "144fa824-f76a-415a-8663-7118473999a4"
   },
   "outputs": [
    {
     "data": {
      "text/html": [
       "<div>\n",
       "<style scoped>\n",
       "    .dataframe tbody tr th:only-of-type {\n",
       "        vertical-align: middle;\n",
       "    }\n",
       "\n",
       "    .dataframe tbody tr th {\n",
       "        vertical-align: top;\n",
       "    }\n",
       "\n",
       "    .dataframe thead th {\n",
       "        text-align: right;\n",
       "    }\n",
       "</style>\n",
       "<table border=\"1\" class=\"dataframe\">\n",
       "  <thead>\n",
       "    <tr style=\"text-align: right;\">\n",
       "      <th></th>\n",
       "      <th>id</th>\n",
       "      <th>target</th>\n",
       "    </tr>\n",
       "  </thead>\n",
       "  <tbody>\n",
       "    <tr>\n",
       "      <th>count</th>\n",
       "      <td>7613.000000</td>\n",
       "      <td>7613.00000</td>\n",
       "    </tr>\n",
       "    <tr>\n",
       "      <th>mean</th>\n",
       "      <td>5441.934848</td>\n",
       "      <td>0.42966</td>\n",
       "    </tr>\n",
       "    <tr>\n",
       "      <th>std</th>\n",
       "      <td>3137.116090</td>\n",
       "      <td>0.49506</td>\n",
       "    </tr>\n",
       "    <tr>\n",
       "      <th>min</th>\n",
       "      <td>1.000000</td>\n",
       "      <td>0.00000</td>\n",
       "    </tr>\n",
       "    <tr>\n",
       "      <th>25%</th>\n",
       "      <td>2734.000000</td>\n",
       "      <td>0.00000</td>\n",
       "    </tr>\n",
       "    <tr>\n",
       "      <th>50%</th>\n",
       "      <td>5408.000000</td>\n",
       "      <td>0.00000</td>\n",
       "    </tr>\n",
       "    <tr>\n",
       "      <th>75%</th>\n",
       "      <td>8146.000000</td>\n",
       "      <td>1.00000</td>\n",
       "    </tr>\n",
       "    <tr>\n",
       "      <th>max</th>\n",
       "      <td>10873.000000</td>\n",
       "      <td>1.00000</td>\n",
       "    </tr>\n",
       "  </tbody>\n",
       "</table>\n",
       "</div>"
      ],
      "text/plain": [
       "                 id      target\n",
       "count   7613.000000  7613.00000\n",
       "mean    5441.934848     0.42966\n",
       "std     3137.116090     0.49506\n",
       "min        1.000000     0.00000\n",
       "25%     2734.000000     0.00000\n",
       "50%     5408.000000     0.00000\n",
       "75%     8146.000000     1.00000\n",
       "max    10873.000000     1.00000"
      ]
     },
     "execution_count": 3,
     "metadata": {
      "tags": []
     },
     "output_type": "execute_result"
    }
   ],
   "source": [
    "df.describe()"
   ]
  },
  {
   "cell_type": "code",
   "execution_count": 5,
   "metadata": {
    "colab": {
     "base_uri": "https://localhost:8080/"
    },
    "executionInfo": {
     "elapsed": 1828,
     "status": "ok",
     "timestamp": 1616016212645,
     "user": {
      "displayName": "Maryam Barouti",
      "photoUrl": "https://lh3.googleusercontent.com/a-/AOh14Git3se7_FRooeDr3V9IQ1hSGTTj_mVFOYCXuk4-=s64",
      "userId": "15748171986397641189"
     },
     "user_tz": 360
    },
    "id": "MFV0hGvMD8_N",
    "outputId": "fe3055bf-1321-45fe-f095-174ab8bd9814"
   },
   "outputs": [
    {
     "data": {
      "text/plain": [
       "25798"
      ]
     },
     "execution_count": 5,
     "metadata": {
      "tags": []
     },
     "output_type": "execute_result"
    }
   ],
   "source": [
    "from sklearn.feature_extraction.text import CountVectorizer\n",
    "\n",
    "vectorizer = CountVectorizer(min_df=0, lowercase=False)\n",
    "vectorizer.fit(df['text'])\n",
    "len(vectorizer.vocabulary_)"
   ]
  },
  {
   "cell_type": "code",
   "execution_count": 6,
   "metadata": {
    "executionInfo": {
     "elapsed": 299,
     "status": "ok",
     "timestamp": 1616016228052,
     "user": {
      "displayName": "Maryam Barouti",
      "photoUrl": "https://lh3.googleusercontent.com/a-/AOh14Git3se7_FRooeDr3V9IQ1hSGTTj_mVFOYCXuk4-=s64",
      "userId": "15748171986397641189"
     },
     "user_tz": 360
    },
    "id": "UTJ7ri2BFBDf"
   },
   "outputs": [],
   "source": [
    "from sklearn.model_selection import train_test_split\n",
    "\n",
    "df = df[['text','target']]\n",
    "\n",
    "sentences = df['text'].values\n",
    "y = df['target'].values\n",
    "\n",
    "sentences_train, sentences_test, y_train, y_test = train_test_split(df['text'], df['target'], test_size=0.25, random_state=1000)\n",
    "\n"
   ]
  },
  {
   "cell_type": "code",
   "execution_count": 7,
   "metadata": {
    "colab": {
     "base_uri": "https://localhost:8080/"
    },
    "executionInfo": {
     "elapsed": 14035,
     "status": "ok",
     "timestamp": 1616016247726,
     "user": {
      "displayName": "Maryam Barouti",
      "photoUrl": "https://lh3.googleusercontent.com/a-/AOh14Git3se7_FRooeDr3V9IQ1hSGTTj_mVFOYCXuk4-=s64",
      "userId": "15748171986397641189"
     },
     "user_tz": 360
    },
    "id": "mBMQkefx4uw1",
    "outputId": "32a81520-e718-4955-a02c-6042e8d1a99c"
   },
   "outputs": [
    {
     "data": {
      "text/plain": [
       "0.7951680672268907"
      ]
     },
     "execution_count": 7,
     "metadata": {
      "tags": []
     },
     "output_type": "execute_result"
    }
   ],
   "source": [
    "from sklearn.feature_extraction.text import TfidfVectorizer\n",
    "#vectorizer = CountVectorizer(min_df=0, lowercase=False)\n",
    "vectorizer = TfidfVectorizer(min_df=0, lowercase=False)\n",
    "vectorizer.fit(sentences_train)\n",
    "X_train = vectorizer.transform(sentences_train).toarray()\n",
    "X_test  = vectorizer.transform(sentences_test).toarray()\n",
    "\n",
    "from sklearn.linear_model import LogisticRegression\n",
    "\n",
    "classifier = LogisticRegression()\n",
    "classifier.fit(X_train, y_train)\n",
    "score = classifier.score(X_test, y_test)\n",
    "#score = classifier.score(X_train, y_train)\n",
    "score"
   ]
  },
  {
   "cell_type": "code",
   "execution_count": 8,
   "metadata": {
    "colab": {
     "base_uri": "https://localhost:8080/"
    },
    "executionInfo": {
     "elapsed": 7401,
     "status": "ok",
     "timestamp": 1616016249723,
     "user": {
      "displayName": "Maryam Barouti",
      "photoUrl": "https://lh3.googleusercontent.com/a-/AOh14Git3se7_FRooeDr3V9IQ1hSGTTj_mVFOYCXuk4-=s64",
      "userId": "15748171986397641189"
     },
     "user_tz": 360
    },
    "id": "v_qRt2rx4qGR",
    "outputId": "881fc266-61f6-407a-8e7f-447992d95990"
   },
   "outputs": [
    {
     "name": "stdout",
     "output_type": "stream",
     "text": [
      "All residents asked to 'shelter in place' are being notified by officers. No other evacuation or shelter in place orders are expected\n",
      "[102, 665, 863, 310, 2878, 3, 1, 2, 3774, 3775, 128, 7, 3776, 2879, 3, 1, 2, 5700]\n"
     ]
    }
   ],
   "source": [
    "from keras.preprocessing.text import Tokenizer\n",
    "tokenizer = Tokenizer(num_words=25000)\n",
    "tokenizer.fit_on_texts(sentences_train)\n",
    "\n",
    "X_train = tokenizer.texts_to_sequences(sentences_train)\n",
    "X_test = tokenizer.texts_to_sequences(sentences_test)\n",
    "\n",
    "vocab_size = len(tokenizer.word_index) + 1  # Adding 1 because of reserved 0 index\n"
   ]
  },
  {
   "cell_type": "code",
   "execution_count": 9,
   "metadata": {
    "colab": {
     "base_uri": "https://localhost:8080/"
    },
    "executionInfo": {
     "elapsed": 4740,
     "status": "ok",
     "timestamp": 1616016249724,
     "user": {
      "displayName": "Maryam Barouti",
      "photoUrl": "https://lh3.googleusercontent.com/a-/AOh14Git3se7_FRooeDr3V9IQ1hSGTTj_mVFOYCXuk4-=s64",
      "userId": "15748171986397641189"
     },
     "user_tz": 360
    },
    "id": "rYNoJozT5D8L",
    "outputId": "5afa6ecc-53b0-4575-9276-c05f1b50fdec"
   },
   "outputs": [
    {
     "name": "stdout",
     "output_type": "stream",
     "text": [
      "[ 274  294  282   12 1046  362    6  413  414  250 2002 1047 1762    0\n",
      "    0    0    0    0    0    0    0    0    0    0    0    0    0    0\n",
      "    0    0    0    0    0    0    0    0    0    0    0    0    0    0\n",
      "    0    0    0    0    0    0    0    0    0    0    0    0    0    0\n",
      "    0    0    0    0    0    0    0    0    0    0    0    0    0    0\n",
      "    0    0    0    0    0    0    0    0    0    0    0    0    0    0\n",
      "    0    0    0    0    0    0    0    0    0    0    0    0    0    0\n",
      "    0    0]\n"
     ]
    }
   ],
   "source": [
    "from keras.preprocessing.sequence import pad_sequences\n",
    "\n",
    "maxlen = 100\n",
    "\n",
    "X_train = pad_sequences(X_train, padding='post', maxlen=maxlen)\n",
    "X_test = pad_sequences(X_test, padding='post', maxlen=maxlen)\n"
   ]
  },
  {
   "cell_type": "code",
   "execution_count": 24,
   "metadata": {
    "colab": {
     "base_uri": "https://localhost:8080/"
    },
    "executionInfo": {
     "elapsed": 277,
     "status": "ok",
     "timestamp": 1616019137315,
     "user": {
      "displayName": "Maryam Barouti",
      "photoUrl": "https://lh3.googleusercontent.com/a-/AOh14Git3se7_FRooeDr3V9IQ1hSGTTj_mVFOYCXuk4-=s64",
      "userId": "15748171986397641189"
     },
     "user_tz": 360
    },
    "id": "OD7WECmc6-ev",
    "outputId": "a864fd40-b1a8-460a-8475-80a0c7b8e360"
   },
   "outputs": [
    {
     "name": "stdout",
     "output_type": "stream",
     "text": [
      "Model: \"sequential_2\"\n",
      "_________________________________________________________________\n",
      "Layer (type)                 Output Shape              Param #   \n",
      "=================================================================\n",
      "embedding_1 (Embedding)      (None, 100, 4)            74072     \n",
      "_________________________________________________________________\n",
      "flatten_1 (Flatten)          (None, 400)               0         \n",
      "_________________________________________________________________\n",
      "dense_7 (Dense)              (None, 1)                 401       \n",
      "_________________________________________________________________\n",
      "dense_8 (Dense)              (None, 1)                 2         \n",
      "=================================================================\n",
      "Total params: 74,475\n",
      "Trainable params: 74,475\n",
      "Non-trainable params: 0\n",
      "_________________________________________________________________\n"
     ]
    }
   ],
   "source": [
    "embedding_dim = 4\n",
    "from keras.models import Sequential\n",
    "from keras import layers\n",
    "model = Sequential()\n",
    "model.add(layers.Embedding(input_dim=vocab_size, \n",
    "                           output_dim=embedding_dim, \n",
    "                           input_length=maxlen))\n",
    "model.add(layers.Flatten())\n",
    "model.add(layers.Dense(1, activation='relu'))\n",
    "model.add(layers.Dense(1, activation='sigmoid'))\n",
    "model.compile(optimizer='adam',\n",
    "              loss='binary_crossentropy',\n",
    "              metrics=['accuracy'])\n",
    "model.summary()"
   ]
  },
  {
   "cell_type": "code",
   "execution_count": 25,
   "metadata": {
    "colab": {
     "base_uri": "https://localhost:8080/"
    },
    "executionInfo": {
     "elapsed": 10109,
     "status": "ok",
     "timestamp": 1616019149252,
     "user": {
      "displayName": "Maryam Barouti",
      "photoUrl": "https://lh3.googleusercontent.com/a-/AOh14Git3se7_FRooeDr3V9IQ1hSGTTj_mVFOYCXuk4-=s64",
      "userId": "15748171986397641189"
     },
     "user_tz": 360
    },
    "id": "bstKcVmn04G2",
    "outputId": "9477c266-c5bc-4206-c0d1-d703a5aa7845"
   },
   "outputs": [
    {
     "name": "stdout",
     "output_type": "stream",
     "text": [
      "Epoch 1/10\n",
      "115/115 [==============================] - 2s 9ms/step - loss: 0.6918 - accuracy: 0.5777 - val_loss: 0.6882 - val_accuracy: 0.5804\n",
      "Epoch 2/10\n",
      "115/115 [==============================] - 1s 8ms/step - loss: 0.6874 - accuracy: 0.5767 - val_loss: 0.6768 - val_accuracy: 0.6360\n",
      "Epoch 3/10\n",
      "115/115 [==============================] - 1s 8ms/step - loss: 0.6577 - accuracy: 0.7460 - val_loss: 0.6275 - val_accuracy: 0.7216\n",
      "Epoch 4/10\n",
      "115/115 [==============================] - 1s 8ms/step - loss: 0.5635 - accuracy: 0.8418 - val_loss: 0.5755 - val_accuracy: 0.7395\n",
      "Epoch 5/10\n",
      "115/115 [==============================] - 1s 7ms/step - loss: 0.4645 - accuracy: 0.9163 - val_loss: 0.5489 - val_accuracy: 0.7390\n",
      "Epoch 6/10\n",
      "115/115 [==============================] - 1s 7ms/step - loss: 0.3885 - accuracy: 0.9469 - val_loss: 0.5384 - val_accuracy: 0.7311\n",
      "Epoch 7/10\n",
      "115/115 [==============================] - 1s 7ms/step - loss: 0.3328 - accuracy: 0.9564 - val_loss: 0.5257 - val_accuracy: 0.7384\n",
      "Epoch 8/10\n",
      "115/115 [==============================] - 1s 7ms/step - loss: 0.2908 - accuracy: 0.9631 - val_loss: 0.5417 - val_accuracy: 0.7248\n",
      "Epoch 9/10\n",
      "115/115 [==============================] - 1s 7ms/step - loss: 0.2624 - accuracy: 0.9663 - val_loss: 0.5436 - val_accuracy: 0.7201\n",
      "Epoch 10/10\n",
      "115/115 [==============================] - 1s 7ms/step - loss: 0.2305 - accuracy: 0.9758 - val_loss: 0.5761 - val_accuracy: 0.6980\n"
     ]
    }
   ],
   "source": [
    "history = model.fit(X_train, y_train,\n",
    "                    epochs=10,\n",
    "                    verbose=True,\n",
    "                    validation_data=(X_test, y_test),\n",
    "                    batch_size=50)"
   ]
  },
  {
   "cell_type": "code",
   "execution_count": 26,
   "metadata": {
    "colab": {
     "base_uri": "https://localhost:8080/",
     "height": 374
    },
    "executionInfo": {
     "elapsed": 1047,
     "status": "ok",
     "timestamp": 1616019149254,
     "user": {
      "displayName": "Maryam Barouti",
      "photoUrl": "https://lh3.googleusercontent.com/a-/AOh14Git3se7_FRooeDr3V9IQ1hSGTTj_mVFOYCXuk4-=s64",
      "userId": "15748171986397641189"
     },
     "user_tz": 360
    },
    "id": "v2HNPBk-ZmZX",
    "outputId": "32d8b0c3-e4ee-44a9-e1ac-ad1359cfd351"
   },
   "outputs": [
    {
     "name": "stdout",
     "output_type": "stream",
     "text": [
      "{'loss': [0.6909974813461304, 0.6853401064872742, 0.6462104320526123, 0.5488340258598328, 0.45238620042800903, 0.37897789478302, 0.32592540979385376, 0.285904198884964, 0.2550499141216278, 0.23009313642978668], 'accuracy': [0.5692765712738037, 0.5878437757492065, 0.7460150718688965, 0.8428796529769897, 0.9131196141242981, 0.9437729716300964, 0.9567349553108215, 0.9644421339035034, 0.9686459898948669, 0.9719740748405457], 'val_loss': [0.6882331371307373, 0.676818311214447, 0.6275212168693542, 0.5755262970924377, 0.5489375591278076, 0.5383897423744202, 0.5257106423377991, 0.5417380928993225, 0.5436170101165771, 0.5761404037475586], 'val_accuracy': [0.5803571343421936, 0.6360294222831726, 0.7216386795043945, 0.7394958138465881, 0.7389705777168274, 0.7310924530029297, 0.7384454011917114, 0.7247899174690247, 0.7200630307197571, 0.6980041861534119]}\n"
     ]
    },
    {
     "data": {
      "image/png": "[encoded data removed]",
      "text/plain": [
       "<Figure size 864x360 with 2 Axes>"
      ]
     },
     "metadata": {
      "tags": []
     },
     "output_type": "display_data"
    }
   ],
   "source": [
    "import matplotlib.pyplot as plt\n",
    "plt.style.use('ggplot')\n",
    "\n",
    "def plot_history(history):\n",
    "    acc = history.history['accuracy']\n",
    "    val_acc = history.history['val_accuracy']\n",
    "    loss = history.history['loss']\n",
    "    val_loss = history.history['val_loss']\n",
    "    x = range(1, len(acc) + 1)\n",
    "\n",
    "    plt.figure(figsize=(12, 5))\n",
    "    plt.subplot(1, 2, 1)\n",
    "    plt.plot(x, acc, 'b', label='Training acc')\n",
    "    plt.plot(x, val_acc, 'r', label='Validation acc')\n",
    "    plt.title('Training and validation accuracy')\n",
    "    plt.legend()\n",
    "    plt.subplot(1, 2, 2)\n",
    "    plt.plot(x, loss, 'b', label='Training loss')\n",
    "    plt.plot(x, val_loss, 'r', label='Validation loss')\n",
    "    plt.title('Training and validation loss')\n",
    "    plt.legend()\n",
    "print(history.history)\n",
    "plot_history(history)"
   ]
  }
 ],
 "metadata": {
  "colab": {
   "authorship_tag": "ABX9TyMG232DKZ2Z39rsvqJpEX8W",
   "collapsed_sections": [],
   "name": "textAnalytics-git.ipynb",
   "provenance": []
  },
  "kernelspec": {
   "display_name": "Python 3",
   "language": "python",
   "name": "python3"
  },
  "language_info": {
   "codemirror_mode": {
    "name": "ipython",
    "version": 3
   },
   "file_extension": ".py",
   "mimetype": "text/x-python",
   "name": "python",
   "nbconvert_exporter": "python",
   "pygments_lexer": "ipython3",
   "version": "3.8.5"
  }
 },
 "nbformat": 4,
 "nbformat_minor": 1
}
